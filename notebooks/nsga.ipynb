{
 "cells": [
  {
   "cell_type": "code",
   "execution_count": null,
   "id": "1e1615aa",
   "metadata": {},
   "outputs": [],
   "source": [
    "%load_ext autoreload\n",
    "%autoreload 2"
   ]
  },
  {
   "cell_type": "markdown",
   "id": "6d5c1ad4",
   "metadata": {},
   "source": [
    "# Optimise EV using NSGA-II"
   ]
  },
  {
   "cell_type": "code",
   "execution_count": null,
   "id": "8019d949",
   "metadata": {},
   "outputs": [],
   "source": [
    "from ev_optimisation.algo import (\n",
    "    create_population, \n",
    "    assign_fronts, \n",
    "    calculate_crowding_distance, \n",
    "    generate_offspring, \n",
    "    propogate_species\n",
    ")\n",
    "from ev_optimisation.pipelines import evaluate_population\n",
    "from ev_optimisation.plotting import plot_population\n",
    "from ev_optimisation.vehicle import VehicleConfig"
   ]
  },
  {
   "cell_type": "code",
   "execution_count": null,
   "id": "d1af7d41-4fb2-425b-a8bc-64e7a6236993",
   "metadata": {},
   "outputs": [],
   "source": [
    "config = VehicleConfig()"
   ]
  },
  {
   "cell_type": "code",
   "execution_count": null,
   "id": "29dc4f27",
   "metadata": {},
   "outputs": [],
   "source": [
    "N_POP = 10"
   ]
  },
  {
   "cell_type": "code",
   "execution_count": null,
   "id": "d20955c5",
   "metadata": {},
   "outputs": [],
   "source": [
    "p = create_population(N_POP)"
   ]
  },
  {
   "cell_type": "code",
   "execution_count": null,
   "id": "9377388b-78b1-4bd6-aa9e-32ba7c5cfcd8",
   "metadata": {},
   "outputs": [],
   "source": [
    "plot_population(p)"
   ]
  },
  {
   "cell_type": "code",
   "execution_count": null,
   "id": "489b1e61-d859-484e-8e8a-eda30b92795d",
   "metadata": {},
   "outputs": [],
   "source": [
    "p_obj = evaluate_population(p, config)"
   ]
  },
  {
   "cell_type": "code",
   "execution_count": null,
   "id": "9e3adb45",
   "metadata": {},
   "outputs": [],
   "source": [
    "fronts = assign_fronts(p_obj)"
   ]
  },
  {
   "cell_type": "code",
   "execution_count": null,
   "id": "400a735c",
   "metadata": {},
   "outputs": [],
   "source": [
    "crowding_distances = calculate_crowding_distance(p_obj)"
   ]
  },
  {
   "cell_type": "code",
   "execution_count": null,
   "id": "8d75525a",
   "metadata": {},
   "outputs": [],
   "source": [
    "q = generate_offspring(p, p_obj, fronts, crowding_distances)"
   ]
  },
  {
   "cell_type": "code",
   "execution_count": null,
   "id": "5c4b787d",
   "metadata": {},
   "outputs": [],
   "source": [
    "p = propogate_species(p, q, config)\n",
    "plot_population(p)"
   ]
  }
 ],
 "metadata": {
  "kernelspec": {
   "display_name": "ev-optimisation-buOvoYz9-py3.13",
   "language": "python",
   "name": "python3"
  },
  "language_info": {
   "codemirror_mode": {
    "name": "ipython",
    "version": 3
   },
   "file_extension": ".py",
   "mimetype": "text/x-python",
   "name": "python",
   "nbconvert_exporter": "python",
   "pygments_lexer": "ipython3",
   "version": "3.13.0"
  }
 },
 "nbformat": 4,
 "nbformat_minor": 5
}
