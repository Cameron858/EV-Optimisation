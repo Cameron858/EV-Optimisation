{
 "cells": [
  {
   "cell_type": "code",
   "execution_count": null,
   "id": "1e1615aa",
   "metadata": {},
   "outputs": [],
   "source": [
    "%load_ext autoreload\n",
    "%autoreload 2"
   ]
  },
  {
   "cell_type": "markdown",
   "id": "6d5c1ad4",
   "metadata": {},
   "source": [
    "# Optimise EV using NSGA-II"
   ]
  },
  {
   "cell_type": "code",
   "execution_count": null,
   "id": "8019d949",
   "metadata": {},
   "outputs": [],
   "source": [
    "from ev_optimisation.algo import create_population\n",
    "from ev_optimisation.pipelines import evaluate_population\n",
    "from ev_optimisation.plotting import plot_population\n",
    "from ev_optimisation.vehicle import VehicleConfig\n",
    "\n",
    "import numpy as np"
   ]
  },
  {
   "cell_type": "code",
   "execution_count": null,
   "id": "d1af7d41-4fb2-425b-a8bc-64e7a6236993",
   "metadata": {},
   "outputs": [],
   "source": [
    "config = VehicleConfig()"
   ]
  },
  {
   "cell_type": "code",
   "execution_count": null,
   "id": "d20955c5",
   "metadata": {},
   "outputs": [],
   "source": [
    "p = create_population(10)"
   ]
  },
  {
   "cell_type": "code",
   "execution_count": null,
   "id": "9377388b-78b1-4bd6-aa9e-32ba7c5cfcd8",
   "metadata": {},
   "outputs": [],
   "source": [
    "plot_population(p)"
   ]
  },
  {
   "cell_type": "code",
   "execution_count": null,
   "id": "489b1e61-d859-484e-8e8a-eda30b92795d",
   "metadata": {},
   "outputs": [],
   "source": [
    "p_obj = evaluate_population(p, config)"
   ]
  }
 ],
 "metadata": {
  "kernelspec": {
   "display_name": "ev-optimisation-buOvoYz9-py3.13",
   "language": "python",
   "name": "python3"
  },
  "language_info": {
   "codemirror_mode": {
    "name": "ipython",
    "version": 3
   },
   "file_extension": ".py",
   "mimetype": "text/x-python",
   "name": "python",
   "nbconvert_exporter": "python",
   "pygments_lexer": "ipython3",
   "version": "3.13.0"
  }
 },
 "nbformat": 4,
 "nbformat_minor": 5
}
