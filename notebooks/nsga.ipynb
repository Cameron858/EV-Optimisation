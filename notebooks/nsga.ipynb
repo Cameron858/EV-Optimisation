{
 "cells": [
  {
   "cell_type": "code",
   "execution_count": null,
   "id": "1e1615aa",
   "metadata": {},
   "outputs": [],
   "source": [
    "%load_ext autoreload\n",
    "%autoreload 2"
   ]
  },
  {
   "cell_type": "markdown",
   "id": "6d5c1ad4",
   "metadata": {},
   "source": [
    "# Optimise EV using NSGA-II"
   ]
  },
  {
   "cell_type": "code",
   "execution_count": null,
   "id": "8019d949",
   "metadata": {},
   "outputs": [],
   "source": [
    "from ev_optimisation.algorithm import optimise_ev_population, create_population\n",
    "from ev_optimisation.plotting import plot_population\n",
    "from ev_optimisation.vehicle import VehicleConfig"
   ]
  },
  {
   "cell_type": "code",
   "execution_count": null,
   "id": "29dc4f27",
   "metadata": {},
   "outputs": [],
   "source": [
    "N_POP = 10\n",
    "N_GENERATIONS = 50"
   ]
  },
  {
   "cell_type": "code",
   "execution_count": null,
   "id": "d1af7d41-4fb2-425b-a8bc-64e7a6236993",
   "metadata": {},
   "outputs": [],
   "source": [
    "config = VehicleConfig()"
   ]
  },
  {
   "cell_type": "code",
   "execution_count": null,
   "id": "ba3439ca",
   "metadata": {},
   "outputs": [],
   "source": [
    "p0 = create_population(N_POP)\n",
    "plot_population(p0)"
   ]
  },
  {
   "cell_type": "code",
   "execution_count": null,
   "id": "9df09ef5",
   "metadata": {},
   "outputs": [],
   "source": [
    "result = optimise_ev_population(config, N_GENERATIONS, initial_population=p0)\n",
    "p_final = result[N_GENERATIONS - 1].population\n",
    "plot_population(p_final)"
   ]
  }
 ],
 "metadata": {
  "kernelspec": {
   "display_name": "ev-optimisation-buOvoYz9-py3.13",
   "language": "python",
   "name": "python3"
  },
  "language_info": {
   "codemirror_mode": {
    "name": "ipython",
    "version": 3
   },
   "file_extension": ".py",
   "mimetype": "text/x-python",
   "name": "python",
   "nbconvert_exporter": "python",
   "pygments_lexer": "ipython3",
   "version": "3.13.0"
  }
 },
 "nbformat": 4,
 "nbformat_minor": 5
}
