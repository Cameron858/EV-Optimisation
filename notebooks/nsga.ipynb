{
 "cells": [
  {
   "cell_type": "code",
   "execution_count": 1,
   "id": "8019d949",
   "metadata": {},
   "outputs": [],
   "source": [
    "from ev_optimisation.algo import create_population\n",
    "from ev_optimisation.plotting import plot_population"
   ]
  },
  {
   "cell_type": "code",
   "execution_count": 2,
   "id": "d20955c5",
   "metadata": {},
   "outputs": [],
   "source": [
    "p = create_population(10)"
   ]
  },
  {
   "cell_type": "code",
   "execution_count": null,
   "id": "9377388b-78b1-4bd6-aa9e-32ba7c5cfcd8",
   "metadata": {},
   "outputs": [],
   "source": [
    "plot_population(p)"
   ]
  }
 ],
 "metadata": {
  "kernelspec": {
   "display_name": "Python 3 (ipykernel)",
   "language": "python",
   "name": "python3"
  },
  "language_info": {
   "codemirror_mode": {
    "name": "ipython",
    "version": 3
   },
   "file_extension": ".py",
   "mimetype": "text/x-python",
   "name": "python",
   "nbconvert_exporter": "python",
   "pygments_lexer": "ipython3",
   "version": "3.13.0"
  }
 },
 "nbformat": 4,
 "nbformat_minor": 5
}
