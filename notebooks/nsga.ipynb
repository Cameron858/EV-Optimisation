{
 "cells": [
  {
   "cell_type": "code",
   "execution_count": null,
   "id": "1e1615aa",
   "metadata": {},
   "outputs": [],
   "source": [
    "%load_ext autoreload\n",
    "%autoreload 2"
   ]
  },
  {
   "cell_type": "markdown",
   "id": "6d5c1ad4",
   "metadata": {},
   "source": [
    "# Optimise EV using NSGA-II"
   ]
  },
  {
   "cell_type": "code",
   "execution_count": null,
   "id": "8019d949",
   "metadata": {},
   "outputs": [],
   "source": [
    "from ev_optimisation.algorithm import optimise_ev_population\n",
    "from ev_optimisation.plotting import plot_result\n",
    "from ev_optimisation.vehicle import Vehicle, VehicleConfig"
   ]
  },
  {
   "cell_type": "code",
   "execution_count": null,
   "id": "29dc4f27",
   "metadata": {},
   "outputs": [],
   "source": [
    "N_POP = 50\n",
    "N_GENERATIONS = 25\n",
    "\n",
    "# \"real\" or \"objective\"\n",
    "PLOT_MODE = \"objective\""
   ]
  },
  {
   "cell_type": "code",
   "execution_count": null,
   "id": "d1af7d41-4fb2-425b-a8bc-64e7a6236993",
   "metadata": {},
   "outputs": [],
   "source": [
    "config = VehicleConfig()"
   ]
  },
  {
   "cell_type": "code",
   "execution_count": null,
   "id": "9df09ef5",
   "metadata": {},
   "outputs": [],
   "source": [
    "result = optimise_ev_population(config, N_GENERATIONS, N_POP)"
   ]
  },
  {
   "cell_type": "markdown",
   "id": "63d4a2d8",
   "metadata": {},
   "source": [
    "### Plot the first, middle and last generation."
   ]
  },
  {
   "cell_type": "code",
   "execution_count": null,
   "id": "a1a063e3",
   "metadata": {},
   "outputs": [],
   "source": [
    "fig = plot_result(result[0], fronts=True, mode=PLOT_MODE)\n",
    "fig.update_layout(width=800)"
   ]
  },
  {
   "cell_type": "code",
   "execution_count": null,
   "id": "34d4a715",
   "metadata": {},
   "outputs": [],
   "source": [
    "keys = list(result.keys())\n",
    "middle_key = keys[len(keys) // 2]\n",
    "plot_result(result[middle_key], fronts=True, mode=PLOT_MODE)"
   ]
  },
  {
   "cell_type": "code",
   "execution_count": null,
   "id": "4a2add08",
   "metadata": {},
   "outputs": [],
   "source": [
    "fig = plot_result(result[max(result.keys())], fronts=True, mode=PLOT_MODE)\n",
    "fig.update_layout(width=800)"
   ]
  }
 ],
 "metadata": {
  "kernelspec": {
   "display_name": "ev-optimisation-buOvoYz9-py3.13",
   "language": "python",
   "name": "python3"
  },
  "language_info": {
   "codemirror_mode": {
    "name": "ipython",
    "version": 3
   },
   "file_extension": ".py",
   "mimetype": "text/x-python",
   "name": "python",
   "nbconvert_exporter": "python",
   "pygments_lexer": "ipython3",
   "version": "3.13.0"
  }
 },
 "nbformat": 4,
 "nbformat_minor": 5
}
